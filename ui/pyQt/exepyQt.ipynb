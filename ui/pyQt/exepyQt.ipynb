{
 "cells": [
  {
   "cell_type": "code",
   "execution_count": 1,
   "metadata": {},
   "outputs": [],
   "source": [
    "import sys\n",
    "from PyQt5.QtWidgets import *\n",
    "from PyQt5.QtCore import Qt\n",
    "from PyQt5 import uic\n",
    "\n",
    "#load UI / must be located in the same directory\n",
    "form_class = uic.loadUiType(\"basic_1.ui\")[0]\n",
    "\n",
    "#Setup Window\n",
    "class WindowClass(QMainWindow, form_class):\n",
    "    def __init__(self):\n",
    "        super().__init__()\n",
    "        self.setupUi(self)\n",
    "        \n",
    "#         -------------------\n",
    "#         signal\n",
    "#         -------------------\n",
    "        \n",
    "if __name__ == \"__main__\":\n",
    "    #QApplication : execute programe\n",
    "    app = QApplication(sys.argv)\n",
    "    \n",
    "    #Create Instance\n",
    "    myWindow = WindowClass()\n",
    "    \n",
    "    #Show Window\n",
    "    myWindow.show()\n",
    "    \n",
    "    #Run Programe\n",
    "    app.exec_()"
   ]
  },
  {
   "cell_type": "code",
   "execution_count": null,
   "metadata": {},
   "outputs": [],
   "source": []
  }
 ],
 "metadata": {
  "kernelspec": {
   "display_name": "Python 3",
   "language": "python",
   "name": "python3"
  },
  "language_info": {
   "codemirror_mode": {
    "name": "ipython",
    "version": 3
   },
   "file_extension": ".py",
   "mimetype": "text/x-python",
   "name": "python",
   "nbconvert_exporter": "python",
   "pygments_lexer": "ipython3",
   "version": "3.6.7"
  }
 },
 "nbformat": 4,
 "nbformat_minor": 4
}
