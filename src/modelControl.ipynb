{
 "cells": [
  {
   "cell_type": "code",
   "execution_count": null,
   "metadata": {},
   "outputs": [],
   "source": [
    "from tensorflow.keras.models import load_model, Model\n",
    "from tensorflow.keras import layers\n",
    "import cv2\n",
    "import numpy as np\n",
    "import tensorflow as tf\n",
    "\n",
    "BASE_PATH = \"./main/model\"\n",
    "MODEL_PATH = \"/keras/hdf5/default_model.h5\"\n",
    "WEIGHT_PATH = \"/keras/weight/default_weight.ckpt\""
   ]
  },
  {
   "cell_type": "code",
   "execution_count": null,
   "metadata": {},
   "outputs": [],
   "source": [
    "class kerasMD:\n",
    "    def __init__ (self, base_path=BASE_PATH, model_path=MODEL_PATH, weight_path=WEIGHT_PATH):\n",
    "        self.model = load_model(base_path + model_path,compile=False)\n",
    "        self.weight = self.model.load_weights(base_path + weight_path)\n",
    "        self.model.summary()\n",
    "        print(base_path + model_path)\n",
    "        print(base_path + weight_path)\n",
    "        ###수정해야함 -> label 파일을 따로 생성해서 dictionary 형태로 만듦 // 아니 그냥 predict 값이랑 label 값이랑 대입하면 될 것 같은데?\n",
    "        ##그러면 label 초기값은 None이고 설정은 prediction에서 하면 되나\n",
    "#         self.labelFile = open(\"/default_labels.txt\",'w')\n",
    "#         labels = self.labelFile.readline()\n",
    "#         self.labels = [ labels for labels in labels ]\n",
    "#     def __del__ (self):\n",
    "#         self.labelFile.close()\n",
    "\n",
    "    def state(self):\n",
    "        layer_outputs = [layer.output for layer in self.model.layers[:]]\n",
    "        layer_names = [layer.name for layer in self.model.layers[:][:]]\n",
    "        print(\"layer outputs Check: \", [i for i in layer_outputs])\n",
    "        print(\"layer names Check: \", layer_names)\n",
    "        \n",
    "    def prediction(self,image):\n",
    "        predict = self.model.predict(image)\n",
    "        return predict"
   ]
  }
 ],
 "metadata": {
  "kernelspec": {
   "display_name": "Python 3",
   "language": "python",
   "name": "python3"
  },
  "language_info": {
   "codemirror_mode": {
    "name": "ipython",
    "version": 3
   },
   "file_extension": ".py",
   "mimetype": "text/x-python",
   "name": "python",
   "nbconvert_exporter": "python",
   "pygments_lexer": "ipython3",
   "version": "3.6.7"
  }
 },
 "nbformat": 4,
 "nbformat_minor": 4
}
